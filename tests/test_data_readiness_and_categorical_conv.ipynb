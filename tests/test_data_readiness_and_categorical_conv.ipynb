{
 "cells": [
  {
   "cell_type": "code",
   "execution_count": 1,
   "metadata": {},
   "outputs": [
    {
     "name": "stdout",
     "output_type": "stream",
     "text": [
      "Sample data with categorical and missing values created for testing.\n"
     ]
    }
   ],
   "source": [
    "# Import necessary libraries and create sample data\n",
    "import pandas as pd\n",
    "import sys\n",
    "import os\n",
    "\n",
    "# Adjust the path to include the src directory\n",
    "sys.path.append(os.path.abspath(os.path.join(os.getcwd(), \"../src\")))\n",
    "\n",
    "from data_preprocessing.data_preprocessing import DataPreprocessor\n",
    "\n",
    "# Create a directory for test data if it doesn't exist\n",
    "if not os.path.exists('test_data'):\n",
    "    os.makedirs('test_data')\n",
    "\n",
    "# Create a sample CSV file with missing values and categorical data for testing\n",
    "data_with_categorical = {\n",
    "    'Category': ['A', 'B', 'A', None, 'C'],\n",
    "    'Value': [1, 2, None, 4, 5],\n",
    "    'OtherValue': [10, 20, 30, None, 50]\n",
    "}\n",
    "\n",
    "df_with_categorical = pd.DataFrame(data_with_categorical)\n",
    "df_with_categorical.to_csv('test_data/data_with_categorical.csv', index=False)\n",
    "print(\"Sample data with categorical and missing values created for testing.\")\n"
   ]
  },
  {
   "cell_type": "code",
   "execution_count": 2,
   "metadata": {},
   "outputs": [
    {
     "name": "stdout",
     "output_type": "stream",
     "text": [
      "Data loaded successfully.\n",
      "Data before checking readiness for missing data:\n",
      "  Category  Value  OtherValue\n",
      "0        A    1.0        10.0\n",
      "1        B    2.0        20.0\n",
      "2        A    NaN        30.0\n",
      "3      NaN    4.0         NaN\n",
      "4        C    5.0        50.0\n",
      "Data is not ready: Missing values found.\n",
      "Columns with missing values:\n",
      "Category      1\n",
      "Value         1\n",
      "OtherValue    1\n",
      "dtype: int64\n",
      "Missing data handled.\n",
      "Missing values filled.\n",
      "Data contains categorical/string columns: ['Category']\n",
      "Please convert categorical data and try again.\n",
      "Data Readiness Check (Handling Missing Data): Failed\n",
      "Data after checking readiness for missing data:\n",
      "  Category  Value  OtherValue\n",
      "0        A    1.0        10.0\n",
      "1        B    2.0        20.0\n",
      "2        A    3.0        30.0\n",
      "3        A    4.0        27.5\n",
      "4        C    5.0        50.0\n",
      "Test Handling Missing Data: Passed\n"
     ]
    }
   ],
   "source": [
    "# Cell: Test Handling Missing Data\n",
    "\n",
    "# Initialize the DataPreprocessor with the sample file path\n",
    "data_preprocessor = DataPreprocessor('test_data/data_with_categorical.csv')\n",
    "\n",
    "# Ensure data is loaded successfully\n",
    "if data_preprocessor.load_data():\n",
    "    # Display data before handling readiness check\n",
    "    print(\"Data before checking readiness for missing data:\")\n",
    "    print(data_preprocessor.df)\n",
    "\n",
    "    # Test the readiness check method with parameters instead of interactive input\n",
    "    is_ready = data_preprocessor.check_data_readiness(fill_missing='yes', convert_categorical='no')\n",
    "\n",
    "    # Display results after attempting to handle missing data\n",
    "    print(f\"Data Readiness Check (Handling Missing Data): {'Passed' if is_ready else 'Failed'}\")\n",
    "    print(\"Data after checking readiness for missing data:\")\n",
    "    print(data_preprocessor.df)\n",
    "\n",
    "    # Validate that missing data has been handled\n",
    "    no_missing_data = not data_preprocessor.df.isnull().values.any()\n",
    "    print(f\"Test Handling Missing Data: {'Passed' if no_missing_data else 'Failed'}\")\n",
    "    assert no_missing_data, \"All missing data should be handled.\"\n",
    "else:\n",
    "    print(\"Failed to load data. Cannot proceed with the test.\")\n"
   ]
  },
  {
   "cell_type": "code",
   "execution_count": 3,
   "metadata": {},
   "outputs": [
    {
     "name": "stdout",
     "output_type": "stream",
     "text": [
      "Data loaded successfully.\n",
      "Data before handling missing values:\n",
      "  Category  Value  OtherValue\n",
      "0        A    1.0        10.0\n",
      "1        B    2.0        20.0\n",
      "2        A    NaN        30.0\n",
      "3      NaN    4.0         NaN\n",
      "4        C    5.0        50.0\n",
      "Data is not ready: Missing values found.\n",
      "Columns with missing values:\n",
      "Category      1\n",
      "Value         1\n",
      "OtherValue    1\n",
      "dtype: int64\n",
      "Missing data handled.\n",
      "Missing values filled.\n",
      "Data contains categorical/string columns: ['Category']\n",
      "Please convert categorical data and try again.\n",
      "Failed to handle missing data. Cannot proceed with converting categorical variables.\n"
     ]
    }
   ],
   "source": [
    "# Cell: Test Conversion of Categorical Variables to Dummy Variables (Corrected)\n",
    "\n",
    "# Reload the data for a fresh start\n",
    "data_preprocessor = DataPreprocessor('test_data/data_with_categorical.csv')\n",
    "\n",
    "# Ensure data is loaded successfully\n",
    "if data_preprocessor.load_data():\n",
    "    # Display data before handling missing values\n",
    "    print(\"Data before handling missing values:\")\n",
    "    print(data_preprocessor.df)\n",
    "\n",
    "    # Handle missing data first\n",
    "    is_ready_after_missing_data = data_preprocessor.check_data_readiness(fill_missing='yes', convert_categorical='no')\n",
    "\n",
    "    if not is_ready_after_missing_data:\n",
    "        print(\"Failed to handle missing data. Cannot proceed with converting categorical variables.\")\n",
    "    else:\n",
    "        # Display data after handling missing values\n",
    "        print(\"Data after handling missing values:\")\n",
    "        print(data_preprocessor.df)\n",
    "\n",
    "        # Convert categorical data to dummy variables\n",
    "        is_ready_after_conversion = data_preprocessor.check_data_readiness(fill_missing='no', convert_categorical='yes')\n",
    "\n",
    "        # Display results after conversion\n",
    "        print(f\"Data Readiness Check (Conversion of Categorical Variables): {'Passed' if is_ready_after_conversion else 'Failed'}\")\n",
    "        print(\"Data after converting categorical variables:\")\n",
    "        print(data_preprocessor.df)\n",
    "\n",
    "        # Validate that categorical columns have been converted to dummy variables\n",
    "        categorical_columns = ['Category']\n",
    "        all_converted = all(col not in data_preprocessor.df.columns for col in categorical_columns) and \\\n",
    "                        any(col.startswith('Category_') for col in data_preprocessor.df.columns)\n",
    "        print(f\"Test Conversion of Categorical Variables: {'Passed' if all_converted else 'Failed'}\")\n",
    "        assert all_converted, \"All categorical variables should be converted to dummy variables.\"\n",
    "else:\n",
    "    print(\"Failed to load data. Cannot proceed with the test.\")\n",
    "\n"
   ]
  }
 ],
 "metadata": {
  "kernelspec": {
   "display_name": "Python 3",
   "language": "python",
   "name": "python3"
  },
  "language_info": {
   "codemirror_mode": {
    "name": "ipython",
    "version": 3
   },
   "file_extension": ".py",
   "mimetype": "text/x-python",
   "name": "python",
   "nbconvert_exporter": "python",
   "pygments_lexer": "ipython3",
   "version": "3.10.8"
  }
 },
 "nbformat": 4,
 "nbformat_minor": 2
}
