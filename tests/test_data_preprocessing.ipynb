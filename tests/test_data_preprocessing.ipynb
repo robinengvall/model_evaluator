{
 "cells": [
  {
   "cell_type": "code",
   "execution_count": 8,
   "metadata": {},
   "outputs": [],
   "source": [
    "# Test_Data_Preprocessing.ipynb\n",
    "\n",
    "import sys\n",
    "import os\n",
    "\n",
    "# Adjust the path to include the src directory\n",
    "sys.path.append(os.path.abspath(os.path.join(os.getcwd(), \"../src\")))\n",
    "\n",
    "from data_preprocessing.data_preprocessing import DataPreprocessor"
   ]
  },
  {
   "cell_type": "code",
   "execution_count": 9,
   "metadata": {},
   "outputs": [],
   "source": [
    "# Cell: Create sample data for testing\n",
    "\n",
    "# Create a directory for test data if it doesn't exist\n",
    "if not os.path.exists('test_data'):\n",
    "    os.makedirs('test_data')\n",
    "\n",
    "# Create a valid CSV file for testing\n",
    "valid_data = {\n",
    "    'Median_House_Value': [100000, 150000, 200000],\n",
    "    'Median_Income': [2.5, 3.0, 3.5],\n",
    "    'Median_Age': [30, 40, 50],\n",
    "    'Tot_Rooms': [5, 6, 7],\n",
    "    'Tot_Bedrooms': [2, 3, 4],\n",
    "    'Population': [100, 150, 200]\n",
    "}\n",
    "\n",
    "valid_df = pd.DataFrame(valid_data)\n",
    "valid_df.to_csv('test_data/valid_file.csv', index=False)\n",
    "\n",
    "# Create a CSV file with missing data\n",
    "invalid_data = {\n",
    "    'Median_House_Value': [100000, None, 200000],  # Missing value in the second row\n",
    "    'Median_Income': [2.5, 3.0, 3.5],\n",
    "    'Median_Age': [30, 40, 50],\n",
    "    'Tot_Rooms': [5, None, 7],  # Missing value in the second row\n",
    "    'Tot_Bedrooms': [2, 3, 4],\n",
    "    'Population': [100, 150, None]  # Missing value in the third row\n",
    "}\n",
    "\n",
    "invalid_df = pd.DataFrame(invalid_data)\n",
    "invalid_df.to_csv('test_data/invalid_file.csv', index=False)\n"
   ]
  },
  {
   "cell_type": "code",
   "execution_count": 10,
   "metadata": {},
   "outputs": [
    {
     "name": "stdout",
     "output_type": "stream",
     "text": [
      "Data loaded successfully.\n",
      "Test Load Valid Data: Passed\n"
     ]
    }
   ],
   "source": [
    "# Cell: Test loading valid data\n",
    "\n",
    "# Test loading a valid CSV file\n",
    "data_preprocessor = DataPreprocessor('test_data/valid_file.csv')\n",
    "data_loaded = data_preprocessor.load_data()\n",
    "print(f\"Test Load Valid Data: {'Passed' if data_loaded else 'Failed'}\")\n",
    "assert data_loaded, \"The data should load successfully.\"\n"
   ]
  },
  {
   "cell_type": "code",
   "execution_count": 11,
   "metadata": {},
   "outputs": [
    {
     "name": "stdout",
     "output_type": "stream",
     "text": [
      "Error: The file 'test_data/non_existent_file.csv' does not exist.\n",
      "Test Load Invalid Data Path: Passed\n"
     ]
    }
   ],
   "source": [
    "# Cell: Test loading an invalid file path\n",
    "\n",
    "# Test loading an invalid CSV file path\n",
    "data_preprocessor.file_path = \"test_data/non_existent_file.csv\"\n",
    "data_loaded = data_preprocessor.load_data()\n",
    "print(f\"Test Load Invalid Data Path: {'Passed' if not data_loaded else 'Failed'}\")\n",
    "assert not data_loaded, \"Loading data should fail with an invalid file path.\"\n"
   ]
  },
  {
   "cell_type": "code",
   "execution_count": 12,
   "metadata": {},
   "outputs": [
    {
     "name": "stdout",
     "output_type": "stream",
     "text": [
      "Data loaded successfully.\n",
      "Data is ready for the machine learning process.\n",
      "Test Data Readiness (Valid Data): Passed\n"
     ]
    }
   ],
   "source": [
    "# Cell: Test checking data readiness\n",
    "\n",
    "# Load valid data and check readiness\n",
    "data_preprocessor = DataPreprocessor('test_data/valid_file.csv')\n",
    "data_preprocessor.load_data()\n",
    "data_ready = data_preprocessor.check_data_readiness()\n",
    "print(f\"Test Data Readiness (Valid Data): {'Passed' if data_ready else 'Failed'}\")\n",
    "assert data_ready, \"Data should be ready for the ML process.\"\n"
   ]
  },
  {
   "cell_type": "code",
   "execution_count": 14,
   "metadata": {},
   "outputs": [
    {
     "name": "stdout",
     "output_type": "stream",
     "text": [
      "Data loaded successfully.\n",
      "Data before handling missing values:\n",
      "   Median_House_Value  Median_Income  Median_Age  Tot_Rooms  Tot_Bedrooms  \\\n",
      "0            100000.0            2.5          30        5.0             2   \n",
      "1                 NaN            3.0          40        NaN             3   \n",
      "2            200000.0            3.5          50        7.0             4   \n",
      "\n",
      "   Population  \n",
      "0       100.0  \n",
      "1       150.0  \n",
      "2         NaN  \n",
      "Missing data handled.\n",
      "Data after handling missing values:\n",
      "   Median_House_Value  Median_Income  Median_Age  Tot_Rooms  Tot_Bedrooms  \\\n",
      "0            100000.0            2.5          30        5.0             2   \n",
      "1            150000.0            3.0          40        6.0             3   \n",
      "2            200000.0            3.5          50        7.0             4   \n",
      "\n",
      "   Population  \n",
      "0       100.0  \n",
      "1       150.0  \n",
      "2       125.0  \n",
      "Test Handling Missing Data: Passed\n"
     ]
    }
   ],
   "source": [
    "# Test handling missing data\n",
    "\n",
    "\n",
    "\n",
    "# Load data with missing values and handle it\n",
    "data_preprocessor = DataPreprocessor('test_data/invalid_file.csv')\n",
    "if data_preprocessor.load_data():  # Ensure data is loaded successfully\n",
    "    # Display data before handling missing values\n",
    "    print(\"Data before handling missing values:\")\n",
    "    print(data_preprocessor.df)\n",
    "\n",
    "    # Handle missing data using the method in the DataPreprocessor class\n",
    "    data_preprocessor.fill_missing_data()\n",
    "\n",
    "    # Display data after handling missing values\n",
    "    print(\"Data after handling missing values:\")\n",
    "    print(data_preprocessor.df)\n",
    "\n",
    "    # Verify that there are no missing values left\n",
    "    no_missing_data = not data_preprocessor.df.isnull().values.any()\n",
    "    print(f\"Test Handling Missing Data: {'Passed' if no_missing_data else 'Failed'}\")\n",
    "    assert no_missing_data, \"All missing data should be handled.\"\n",
    "else:\n",
    "    print(\"Failed to load data. Cannot proceed with the test.\")\n"
   ]
  }
 ],
 "metadata": {
  "kernelspec": {
   "display_name": "Python 3",
   "language": "python",
   "name": "python3"
  },
  "language_info": {
   "codemirror_mode": {
    "name": "ipython",
    "version": 3
   },
   "file_extension": ".py",
   "mimetype": "text/x-python",
   "name": "python",
   "nbconvert_exporter": "python",
   "pygments_lexer": "ipython3",
   "version": "3.10.8"
  }
 },
 "nbformat": 4,
 "nbformat_minor": 2
}
